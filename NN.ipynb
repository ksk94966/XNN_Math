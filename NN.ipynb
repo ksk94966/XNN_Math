{
  "nbformat": 4,
  "nbformat_minor": 0,
  "metadata": {
    "colab": {
      "name": "NN.ipynb",
      "provenance": [],
      "collapsed_sections": [],
      "authorship_tag": "ABX9TyPnYA1ZKDfiZX/75vb7Q8p1",
      "include_colab_link": true
    },
    "kernelspec": {
      "name": "python3",
      "display_name": "Python 3"
    }
  },
  "cells": [
    {
      "cell_type": "markdown",
      "metadata": {
        "id": "view-in-github",
        "colab_type": "text"
      },
      "source": [
        "<a href=\"https://colab.research.google.com/github/ksk94966/XNN_Math/blob/master/NN.ipynb\" target=\"_parent\"><img src=\"https://colab.research.google.com/assets/colab-badge.svg\" alt=\"Open In Colab\"/></a>"
      ]
    },
    {
      "cell_type": "code",
      "metadata": {
        "id": "ct1oP-ACslzA"
      },
      "source": [
        "import os.path\n",
        "import urllib.request\n",
        "import gzip\n",
        "import math\n",
        "import numpy  as np\n",
        "import matplotlib.pyplot as plt\n",
        "\n",
        "# data\n",
        "DATA_NUM_TRAIN         = 60000\n",
        "DATA_NUM_TEST          = 10000\n",
        "DATA_CHANNELS          = 1\n",
        "DATA_ROWS              = 28\n",
        "DATA_COLS              = 28\n",
        "DATA_CLASSES           = 10\n",
        "DATA_URL_TRAIN_DATA    = 'http://yann.lecun.com/exdb/mnist/train-images-idx3-ubyte.gz'\n",
        "DATA_URL_TRAIN_LABELS  = 'http://yann.lecun.com/exdb/mnist/train-labels-idx1-ubyte.gz'\n",
        "DATA_URL_TEST_DATA     = 'http://yann.lecun.com/exdb/mnist/t10k-images-idx3-ubyte.gz'\n",
        "DATA_URL_TEST_LABELS   = 'http://yann.lecun.com/exdb/mnist/t10k-labels-idx1-ubyte.gz'\n",
        "DATA_FILE_TRAIN_DATA   = 'train_data.gz'\n",
        "DATA_FILE_TRAIN_LABELS = 'train_labels.gz'\n",
        "DATA_FILE_TEST_DATA    = 'test_data.gz'\n",
        "DATA_FILE_TEST_LABELS  = 'test_labels.gz'\n",
        "\n",
        "# display\n",
        "DISPLAY_ROWS   = 8\n",
        "DISPLAY_COLS   = 4\n",
        "DISPLAY_COL_IN = 10\n",
        "DISPLAY_ROW_IN = 25\n",
        "DISPLAY_NUM    = DISPLAY_ROWS*DISPLAY_COLS\n",
        "\n",
        "# download\n",
        "if (os.path.exists(DATA_FILE_TRAIN_DATA)   == False):\n",
        "    urllib.request.urlretrieve(DATA_URL_TRAIN_DATA,   DATA_FILE_TRAIN_DATA)\n",
        "if (os.path.exists(DATA_FILE_TRAIN_LABELS) == False):\n",
        "    urllib.request.urlretrieve(DATA_URL_TRAIN_LABELS, DATA_FILE_TRAIN_LABELS)\n",
        "if (os.path.exists(DATA_FILE_TEST_DATA)    == False):\n",
        "    urllib.request.urlretrieve(DATA_URL_TEST_DATA,    DATA_FILE_TEST_DATA)\n",
        "if (os.path.exists(DATA_FILE_TEST_LABELS)  == False):\n",
        "    urllib.request.urlretrieve(DATA_URL_TEST_LABELS,  DATA_FILE_TEST_LABELS)\n",
        "\n",
        "# training data\n",
        "# unzip the file, skip the header, read the rest into a buffer and format to NCHW\n",
        "file_train_data   = gzip.open(DATA_FILE_TRAIN_DATA, 'r')\n",
        "file_train_data.read(16)\n",
        "buffer_train_data = file_train_data.read(DATA_NUM_TRAIN*DATA_ROWS*DATA_COLS)\n",
        "train_data        = np.frombuffer(buffer_train_data, dtype=np.uint8).astype(np.float32)\n",
        "train_data        = train_data.reshape(DATA_NUM_TRAIN, 1, DATA_ROWS, DATA_COLS)\n",
        "\n",
        "# training labels\n",
        "# unzip the file, skip the header, read the rest into a buffer and format to a vector\n",
        "file_train_labels   = gzip.open(DATA_FILE_TRAIN_LABELS, 'r')\n",
        "file_train_labels.read(8)\n",
        "buffer_train_labels = file_train_labels.read(DATA_NUM_TRAIN)\n",
        "train_labels        = np.frombuffer(buffer_train_labels, dtype=np.uint8).astype(np.int32)\n",
        "\n",
        "# testing data\n",
        "# unzip the file, skip the header, read the rest into a buffer and format to NCHW\n",
        "file_test_data   = gzip.open(DATA_FILE_TEST_DATA, 'r')\n",
        "file_test_data.read(16)\n",
        "buffer_test_data = file_test_data.read(DATA_NUM_TEST*DATA_ROWS*DATA_COLS)\n",
        "test_data        = np.frombuffer(buffer_test_data, dtype=np.uint8).astype(np.float32)\n",
        "test_data        = test_data.reshape(DATA_NUM_TEST, 1, DATA_ROWS, DATA_COLS)\n",
        "\n",
        "# testing labels\n",
        "# unzip the file, skip the header, read the rest into a buffer and format to a vector\n",
        "file_test_labels   = gzip.open(DATA_FILE_TEST_LABELS, 'r')\n",
        "file_test_labels.read(8)\n",
        "buffer_test_labels = file_test_labels.read(DATA_NUM_TEST)\n",
        "test_labels        = np.frombuffer(buffer_test_labels, dtype=np.uint8).astype(np.int32)"
      ],
      "execution_count": 78,
      "outputs": []
    },
    {
      "cell_type": "code",
      "metadata": {
        "id": "hygX7HRKtP4A",
        "outputId": "04c4ab32-a8ee-407a-cfdc-5ee024096256",
        "colab": {
          "base_uri": "https://localhost:8080/",
          "height": 87
        }
      },
      "source": [
        "#Printing dimensions\n",
        "print(train_data.shape)   # (60000, 1, 28, 28)\n",
        "print(train_labels.shape) # (60000,)\n",
        "print(test_data.shape)    # (10000, 1, 28, 28)\n",
        "print(test_labels.shape)  # (10000,)"
      ],
      "execution_count": 79,
      "outputs": [
        {
          "output_type": "stream",
          "text": [
            "(60000, 1, 28, 28)\n",
            "(60000,)\n",
            "(10000, 1, 28, 28)\n",
            "(10000,)\n"
          ],
          "name": "stdout"
        }
      ]
    },
    {
      "cell_type": "code",
      "metadata": {
        "id": "EEvk6X1VW63S"
      },
      "source": [
        "#hidden Layer1\n",
        "wh1 = np.random.rand(784,1000)/np.sqrt(784)\n",
        "bh1 = np.random.rand(1,1000)\n",
        "\n",
        "#hidden Layer2\n",
        "wh2 = np.random.rand(1000,100)/np.sqrt(1000)\n",
        "bh2 = np.random.rand(1,100)\n",
        "\n",
        "#Output Layer\n",
        "wo = np.random.rand(100,10)/np.sqrt(100)\n",
        "bo = np.random.rand(1,10)"
      ],
      "execution_count": 80,
      "outputs": []
    },
    {
      "cell_type": "code",
      "metadata": {
        "id": "-7fzy5El4MfL"
      },
      "source": [
        "def multi1(v):\n",
        "  return np.dot(v,wh1)\n",
        "\n",
        "def multi2(v):\n",
        "  return np.dot(v,wh2)\n",
        "\n",
        "def multi3(v):\n",
        "  return np.dot(v,wo)\n",
        "\n",
        "def ReLU(x):\n",
        "  return np.maximum(0,x)\n",
        "\n",
        "def reluDerivative(x):\n",
        "  x[x<=0] = 0\n",
        "  x[x>0] = 1\n",
        "  return x\n",
        "\n",
        "def softmax(x):\n",
        "    e_x = np.exp(x - np.max(x))\n",
        "    return e_x /np.sum(e_x)\n",
        "\n",
        "def getLabelMatrix(i):\n",
        "  lab = np.zeros((1,10))\n",
        "  lab[0][i] = 1\n",
        "  return lab"
      ],
      "execution_count": 81,
      "outputs": []
    },
    {
      "cell_type": "code",
      "metadata": {
        "id": "qQrp7MZ84Ssa"
      },
      "source": [
        "lr = 0.001                    # Learning Rate\n",
        "\n",
        "train_data =  (train_data/255).astype('float32')\n",
        "test_data =  (test_data/255).astype('float32')\n",
        "\n",
        "count = 0;\n",
        "total = 0; \n",
        "#Forward Pass\n",
        "for epoch in range(3):\n",
        "  for sample in range(59000):\n",
        "    a0 = np.copy(train_data[sample])                                               \n",
        "    a0 = a0.reshape(1,784)                                                                 #Reshaping ---> Vectorization\n",
        "    # print(bh1)\n",
        "\n",
        "    #Passing the sample through first hidden layer\n",
        "    zh1 = np.add(multi1(a0) ,bh1)                                                                    #Creating Zh1 which is addtion of weights and bias\n",
        "    ah1 = ReLU(zh1)                                                                                            #Generated hiddenlayer1 Activations\n",
        "    # print(ah1)\n",
        "\n",
        "    #passing the h1 sample through second hiddden layer\n",
        "    zh2 = np.add(multi2(ah1), bh2)                                                                   #Creating Zh2 which is addtion of weights and bias\n",
        "    ah2 = ReLU(zh2)                                                                                             #Generated hiddenlayer2 Activations \n",
        "    \n",
        "    #passing the h2 sample through third hiddden layer\n",
        "    zo = np.add(multi3(ah2) ,bo)                                                                        #Creating Zo which is addtion of weights and bias\n",
        "    ao = softmax(zo)                                                                                             #Generated output Activations\n",
        "    #print(ao)\n",
        "\n",
        "    y = getLabelMatrix(train_labels[sample])                          #desired output label\n",
        "\n",
        "    #Here we are using entropy function as loss function\n",
        "    #BackPropagation----------------------------------------------------------\n",
        "\n",
        "    #phase 1              ---> for the output layer\n",
        "    dcost_dzo = ao - y                                                                             #(1,10)\n",
        "    dzo_dwo = ah2.transpose()                                                            #(1,100)   --> we have to transpose this one\n",
        "    dcost_dwo = np.dot( dzo_dwo,dcost_dzo)                                 #derivate of cost w.r.t output weights      #(100,10)\n",
        "    dcost_dbo = dcost_dzo                                                                   #derivative of cost w.r.t bias                      #(1,10)\n",
        "\n",
        "    #phase 2              ---> for the hidden layer 2 \n",
        "    dzo_dah2 = wo\n",
        "    dcost_dah2 = np.dot(dcost_dzo , dzo_dah2.transpose())\n",
        "    dah2_dzh2 = reluDerivative(zh2)\n",
        "    dzh2_dwh2 = ah1\n",
        "    dcost_dwh2 = np.dot(dzh2_dwh2.T,dah2_dzh2*dcost_dah2)\n",
        "    dcost_dbh2 = dcost_dah2 * dah2_dzh2\n",
        "    #print(dcost_dwh2)\n",
        "\n",
        "    #phase 3   ---- > for hidden layer 1\n",
        "    dzh2_dah1 = wh2\n",
        "    dcost_dzh2 = dcost_dah2 * dah2_dzh2\n",
        "    dcost_dah1 = np.dot(dcost_dzh2,dzh2_dah1.transpose()) \n",
        "    dah1_dzh1 = reluDerivative(zh1)\n",
        "    dzh1_dwh1 = a0\n",
        "    dcost_dwh1 = np.dot(dzh1_dwh1.T,dah1_dzh1 *dcost_dah1)\n",
        "    dcost_dbh1 = dcost_dah1 * dah1_dzh1\n",
        "    #print(dzh1_dwh1)\n",
        "\n",
        "    wh1 -= lr * dcost_dwh1\n",
        "    bh1 -= lr * dcost_dbh1.sum(axis=0)\n",
        "\n",
        "    wh2 -= lr * dcost_dwh2\n",
        "    bh2 -= lr * dcost_dbh2.sum(axis=0)\n",
        "\n",
        "    wo -= lr * dcost_dwo\n",
        "    bo -= lr * dcost_dbo.sum(axis=0)\n",
        "\n",
        "    if sample % 1000 == 0:\n",
        "          loss = np.sum(-y * np.log(ao))\n",
        "          print('Loss function value: ', loss)\n",
        "    "
      ],
      "execution_count": null,
      "outputs": []
    },
    {
      "cell_type": "code",
      "metadata": {
        "id": "a3gMU3wmSWKx"
      },
      "source": [
        "def testingNN(testdata,testlabels):\n",
        "  count = 0;\n",
        "  total = 0; \n",
        "#Forward Pass\n",
        "  for sample in range(5000):\n",
        "    a0 = testdata[sample]                                                      #division by 255\n",
        "    a0 = a0.reshape(1,784)                                                                 #Reshaping ---> Vectorization\n",
        "    #print(bh1)\n",
        "\n",
        "    #Passing the sample through first hidden layer\n",
        "    zh1 = np.add(multi1(a0) ,bh1)                                                                    #Creating Zh1 which is addtion of weights and bias\n",
        "    ah1 = ReLU(zh1)                                                                                            #Generated hiddenlayer1 Activations\n",
        "    # print(ah1)\n",
        "\n",
        "    #passing the h1 sample through second hiddden layer\n",
        "    zh2 = np.add(multi2(ah1), bh2)                                                                   #Creating Zh2 which is addtion of weights and bias\n",
        "    ah2 = ReLU(zh2)                                                                                             #Generated hiddenlayer2 Activations \n",
        "    \n",
        "\n",
        "    #passing the h2 sample through third hiddden layer\n",
        "    zo = np.add(multi3(ah2) ,bo)                                                                        #Creating Zo which is addtion of weights and bias\n",
        "    ao = softmax(zo)                                                                                             #Generated output Activations\n",
        "    #print(ao)\n",
        "\n",
        "    pred = np.argmax(ao)\n",
        "\n",
        "    #print(pred)\n",
        "\n",
        "    y = getLabelMatrix(testlabels[sample])                          #desired output label\n",
        "\n",
        "    #print(y)\n",
        "\n",
        "    if(y[0][pred]):\n",
        "      count += 1\n",
        "    \n",
        "    total += 1\n",
        "\n",
        "  print((count/total)*100)\n",
        "\n",
        "  return (count/total)*100"
      ],
      "execution_count": 83,
      "outputs": []
    },
    {
      "cell_type": "code",
      "metadata": {
        "id": "CBXOa0ZE1XNP",
        "outputId": "004b06c4-391b-4177-ea8b-d0f09be3627a",
        "colab": {
          "base_uri": "https://localhost:8080/",
          "height": 52
        }
      },
      "source": [
        "print(testingNN(test_data,test_labels))"
      ],
      "execution_count": 85,
      "outputs": [
        {
          "output_type": "stream",
          "text": [
            "88.32\n",
            "88.32\n"
          ],
          "name": "stdout"
        }
      ]
    },
    {
      "cell_type": "code",
      "metadata": {
        "id": "giQy5abS5xJy"
      },
      "source": [
        ""
      ],
      "execution_count": null,
      "outputs": []
    }
  ]
}